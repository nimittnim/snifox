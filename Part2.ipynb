{
 "cells": [
  {
   "cell_type": "code",
   "execution_count": 1,
   "metadata": {},
   "outputs": [],
   "source": [
    "#imports\n",
    "from scapy.all import *\n",
    "from scapy.layers.http import HTTPRequest\n",
    "from scapy.layers.dns import DNS, DNSRR\n",
    "from scapy.layers.inet import IP, TCP\n",
    "from scapy.layers.dhcp import DHCP\n",
    "from scapy.layers.netbios import NBNSQueryRequest\n",
    "import ipaddress"
   ]
  },
  {
   "cell_type": "code",
   "execution_count": 2,
   "metadata": {},
   "outputs": [],
   "source": [
    "def is_private_ip(ip_str):\n",
    "    try:\n",
    "        ip = ipaddress.ip_address(ip_str)\n",
    "        return ip.is_private\n",
    "    except ValueError:\n",
    "        return False"
   ]
  },
  {
   "cell_type": "code",
   "execution_count": 3,
   "metadata": {},
   "outputs": [],
   "source": [
    "packets = rdpcap('6.pcap')"
   ]
  },
  {
   "cell_type": "code",
   "execution_count": 4,
   "metadata": {},
   "outputs": [
    {
     "data": {
      "text/plain": [
       "'192.168.1.100'"
      ]
     },
     "execution_count": 4,
     "metadata": {},
     "output_type": "execute_result"
    }
   ],
   "source": [
    "# 1. Find Attacker's Phishing Page IP\n",
    "phishing_ip = None\n",
    "# Check DNS responses for secure-bank.com pointing to a private IP\n",
    "for pkt in packets:\n",
    "    if pkt.haslayer(DNSRR):\n",
    "        dns = pkt[DNS]\n",
    "        if dns.qr == 1:  # DNS Response\n",
    "            qname = dns.qd.qname.decode().lower() if dns.qd else ''\n",
    "            if 'secure-bank.com' in qname:\n",
    "                for rr in dns.an:\n",
    "                    if rr.type == 1:  # A record\n",
    "                        answer_ip = rr.rdata if not isinstance(rr.rdata, bytes) else rr.rdata.decode()\n",
    "                        if is_private_ip(answer_ip):\n",
    "                            phishing_ip = answer_ip\n",
    "                            break\n",
    "                if phishing_ip:\n",
    "                    break\n",
    "phishing_ip"
   ]
  },
  {
   "cell_type": "code",
   "execution_count": 28,
   "metadata": {},
   "outputs": [
    {
     "data": {
      "text/plain": [
       "('alexwell', 'bemymaxwell')"
      ]
     },
     "execution_count": 28,
     "metadata": {},
     "output_type": "execute_result"
    }
   ],
   "source": [
    "# 2. Extract Victim's Username from Plaintext POST Request\n",
    "from urllib.parse import parse_qs, unquote\n",
    "username = None\n",
    "if phishing_ip:\n",
    "    for pkt in packets:\n",
    "        # Check for HTTP traffic to phishing IP\n",
    "        if pkt.haslayer(IP) and pkt[IP].dst == phishing_ip:\n",
    "            # Handle both HTTP Request and Response layers\n",
    "            if pkt.haslayer(HTTPRequest):\n",
    "                http = pkt[HTTPRequest]\n",
    "                # Detect POST requests more reliably\n",
    "                if b'POST' in http.Method:\n",
    "                    # Get full payload from Raw layer\n",
    "                    if pkt.haslayer(Raw):\n",
    "                        load = pkt[Raw].load.decode('utf-8', errors='ignore')\n",
    "                        # Find POST parameters in body\n",
    "                        body = load.split('\\r\\n\\r\\n')[-1]\n",
    "                        # Try URL-encoded format\n",
    "                        if 'username=' in body:\n",
    "                            params = parse_qs(body)\n",
    "                            if 'username' in params:\n",
    "                                username = unquote(params['username'][0])\n",
    "                                password = unquote(params['password'][0])\n",
    "                                break\n",
    "                        \n",
    "                        # Try JSON format\n",
    "                        if not username and ('{' in body and '}' in body):\n",
    "                            match = re.search(r'\"username\"\\s*:\\s*\"([^\"]+)\"', body)\n",
    "                            if match:\n",
    "                                username = unquote(match.group(1))\n",
    "                                break\n",
    "\n",
    "username, password"
   ]
  },
  {
   "cell_type": "code",
   "execution_count": 12,
   "metadata": {},
   "outputs": [],
   "source": [
    "def analyze_attacker_packets():\n",
    "    \n",
    "    attacker_info = {\n",
    "        'email_address': None,\n",
    "        'email_subject': None,\n",
    "        'email_body': None,\n",
    "        'hostname': None,\n",
    "    }\n",
    "\n",
    "    for pkt in packets:\n",
    "        if pkt.haslayer(IP) and pkt[IP].src == phishing_ip:\n",
    "            # Check SMTP traffic\n",
    "            if pkt.haslayer(TCP) and pkt[TCP].dport == 25 and pkt.haslayer(Raw):\n",
    "                payload = pkt[Raw].load.decode()\n",
    "                if 'MAIL FROM:' in payload:\n",
    "                    attacker_info['email'] = payload.split('MAIL FROM:<')[1].split('>')[0]\n",
    "                if 'HELO' in payload:\n",
    "                    attacker_info['hostname'] = payload.split('HELO ')[1].split('\\r\\n')[0]\n",
    "                if 'Subject' in payload:\n",
    "                    attacker_info['email_subject'] = payload.split('Subject: ')[1].split('\\r\\n')[0]\n",
    "                attacker_info['email_body'] = payload.split('\\r\\n\\r\\n')[1].split('\\r\\n.\\r\\n')[0]\n",
    "\n",
    "    return attacker_info"
   ]
  },
  {
   "cell_type": "code",
   "execution_count": 29,
   "metadata": {},
   "outputs": [],
   "source": [
    "result = analyze_attacker_packets()"
   ]
  },
  {
   "cell_type": "code",
   "execution_count": 33,
   "metadata": {},
   "outputs": [
    {
     "name": "stdout",
     "output_type": "stream",
     "text": [
      "Answers to the questions:\n",
      "1. IP address of the phishing page:  192.168.1.100\n",
      "2. username and password: of the victim are alexwell bemymaxwell\n",
      "3. Information about the attacker:\n",
      "\tName of the attacker:  Chris Martin\n",
      "\tEmail address of the attacker:  ab@iitgn.ac.in\n",
      "\tEmail subject:  CS331 - Enrollment\n",
      "\tEmail body:  Can I get enrolled into CS331? I need it for my graduation.\n"
     ]
    }
   ],
   "source": [
    "print(\"Answers to the questions:\")\n",
    "print(\"1. IP address of the phishing page: \", phishing_ip)\n",
    "print(\"2. username and password: of the victim are\", username, password)\n",
    "print(\"3. Information about the attacker:\")\n",
    "print(\"\\tName of the attacker: \", result['hostname'])\n",
    "print(\"\\tEmail address of the attacker: \", result['email'])\n",
    "print(\"\\tEmail subject: \", result['email_subject'])\n",
    "print(\"\\tEmail body: \", result['email_body'])"
   ]
  },
  {
   "cell_type": "code",
   "execution_count": null,
   "metadata": {},
   "outputs": [],
   "source": []
  }
 ],
 "metadata": {
  "kernelspec": {
   "display_name": "Python 3",
   "language": "python",
   "name": "python3"
  },
  "language_info": {
   "codemirror_mode": {
    "name": "ipython",
    "version": 3
   },
   "file_extension": ".py",
   "mimetype": "text/x-python",
   "name": "python",
   "nbconvert_exporter": "python",
   "pygments_lexer": "ipython3",
   "version": "3.10.12"
  }
 },
 "nbformat": 4,
 "nbformat_minor": 2
}
